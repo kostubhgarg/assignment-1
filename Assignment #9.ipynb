{
 "cells": [
  {
   "cell_type": "code",
   "execution_count": 3,
   "id": "63cfce17-bec7-44b2-a22d-057ad6f3516c",
   "metadata": {},
   "outputs": [
    {
     "data": {
      "text/plain": [
       "'Abstraction refers to the ability to focus on essential features of an object while ignoring its non-essential details. \\nIt is a process of hiding the implementation details from the user, only the functionality will be provided to the user.'"
      ]
     },
     "execution_count": 3,
     "metadata": {},
     "output_type": "execute_result"
    }
   ],
   "source": [
    "#Question #1\n",
    "'''Abstraction refers to the ability to focus on essential features of an object while ignoring its non-essential details. \n",
    "It is a process of hiding the implementation details from the user, only the functionality will be provided to the user.'''\n",
    "Example->"
   ]
  },
  {
   "cell_type": "code",
   "execution_count": null,
   "id": "6c4155f0-363c-4c59-9eb3-b6612673840d",
   "metadata": {},
   "outputs": [],
   "source": [
    "from abc import ABC, abstractmethod\n",
    "\n",
    "class Vehicle(ABC):\n",
    "    @abstractmethod\n",
    "    def start_engine(self):\n",
    "        pass\n",
    "\n",
    "class Car(Vehicle):\n",
    "    def start_engine(self):\n",
    "        print(\"Car engine started\")\n"
   ]
  },
  {
   "cell_type": "code",
   "execution_count": null,
   "id": "3930f4ce-0089-4ad5-a958-5fa79796d495",
   "metadata": {},
   "outputs": [],
   "source": [
    "#Question #2\n",
    "Abstraction refers to the ability to focus on essential features of an object while ignoring its non-essential details. \n",
    "It is a way of hiding the complexity of a system and presenting a simplified view of the system to the users. \n",
    "In Python, abstraction can be achieved using abstract classes and abstract methods.\n",
    "\n",
    "Encapsulation refers to the practice of keeping the data and code that operates on that data within an object and hiding it from the outside world. \n",
    "It is a way of creating a secure boundary around an object to protect its data from accidental or intentional modification. \n",
    "In Python, encapsulation is achieved by using the private and protected access modifiers \n",
    "(e.g. double underscore __ before the attribute name) and by defining methods to access the attributes.\n",
    "Example->\n",
    "class BankAccount:\n",
    "    def __init__(self, balance):\n",
    "        self.__balance = balance\n",
    "    \n",
    "    def deposit(self, amount):\n",
    "        self.__balance += amount\n",
    "    \n",
    "    def get_balance(self):\n",
    "        return self.__balance\n",
    "\n",
    "account = BankAccount(1000)\n",
    "print(\" balance: \", account.get_balance())\n",
    "account.deposit(500)\n",
    "print(\"Balance after deposit: \", account.get_balance())\n",
    "In this example, the BankAccount class is an example of both abstraction and encapsulation. \n",
    "The deposit(), get_balance() methods provide a simplified view of the bank account operations while hiding the implementation details.\n",
    "The __balance attribute is encapsulated within the BankAccount object, making it private and inaccessible from outside the object."
   ]
  },
  {
   "cell_type": "code",
   "execution_count": null,
   "id": "920f7264-05d0-4231-be63-ffde2715a716",
   "metadata": {},
   "outputs": [],
   "source": [
    "#Question 3\n",
    "The abc module in Python is the abstract base class module. \n",
    "An ABC is a class that contains abstract methods, which are methods without an implementation. \n",
    "The abc module is used as a tool for creating and using abstract base classes in Python. \n",
    "This allows for abstraction in object-oriented programming and helps to enforce a certain level of uniformity across related classes in a program."
   ]
  },
  {
   "cell_type": "code",
   "execution_count": null,
   "id": "62bfed2a-3d39-4bfc-9950-d15a84d8d2d1",
   "metadata": {},
   "outputs": [],
   "source": [
    "#Question 4\n",
    "Data abstraction in Python can be achieved using the abc module by defining abstract base classes (ABCs).\n",
    "An abstract base class is a class that contains one or more abstract methods. \n",
    "An abstract method is a method that is declared but has no implementation. \n",
    "Example->\n",
    "from abc import ABC, abstractmethod\n",
    "\n",
    "class Shape(ABC):\n",
    "    @abstractmethod\n",
    "    def area(self):\n",
    "        pass\n",
    "\n",
    "class Rectangle(Shape):\n",
    "    def __init__(self, length, width):\n",
    "        self.length = length\n",
    "        self.width = width\n",
    "    \n",
    "    def area(self):\n",
    "        return self.length * self.width\n",
    "\n",
    "In this example, the Shape class is an abstract base class that defines an abstract method area().\n"
   ]
  },
  {
   "cell_type": "code",
   "execution_count": null,
   "id": "4acdce9f-6ac0-439b-a090-af045320e68f",
   "metadata": {},
   "outputs": [],
   "source": [
    "#Question 5\n",
    "No, you cannot create an instance of an abstract class in Python. \n",
    "An abstract class is a class that contains one or more abstract methods, which are methods that are declared but have no implementation.\n",
    "If you try to create an instance of an abstract class, you will get a TypeError saying that the abstract class cannot be instantiated directly. "
   ]
  }
 ],
 "metadata": {
  "kernelspec": {
   "display_name": "Python 3 (ipykernel)",
   "language": "python",
   "name": "python3"
  },
  "language_info": {
   "codemirror_mode": {
    "name": "ipython",
    "version": 3
   },
   "file_extension": ".py",
   "mimetype": "text/x-python",
   "name": "python",
   "nbconvert_exporter": "python",
   "pygments_lexer": "ipython3",
   "version": "3.10.8"
  }
 },
 "nbformat": 4,
 "nbformat_minor": 5
}
