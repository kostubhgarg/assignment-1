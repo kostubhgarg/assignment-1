{
 "cells": [
  {
   "cell_type": "code",
   "execution_count": 1,
   "id": "5229b8b5-253d-4780-bdc3-417b1e96ab6a",
   "metadata": {},
   "outputs": [
    {
     "name": "stdout",
     "output_type": "stream",
     "text": [
      "apple\n",
      "banana\n",
      "cherry\n",
      "1\n",
      "2\n",
      "3\n",
      "4\n",
      "5\n"
     ]
    }
   ],
   "source": [
    "#Question 1\n",
    "#For loop-> It is used when we know the length of the structure, we need to iterate.\n",
    "#While loop-> It is used when we know the condition, until which we have to iterate.\n",
    "#Example->\n",
    "fruits = [\"apple\", \"banana\", \"cherry\"]\n",
    "for x in fruits:\n",
    "  print(x)\n",
    "\n",
    "i = 1\n",
    "while i < 6:\n",
    "  print(i)\n",
    "  i += 1"
   ]
  },
  {
   "cell_type": "code",
   "execution_count": 1,
   "id": "c854b744-518a-4c3f-bba0-21d4e2619e51",
   "metadata": {},
   "outputs": [
    {
     "name": "stdout",
     "output_type": "stream",
     "text": [
      "The sum is:  55\n",
      "The product is:  3628800\n",
      "The sum is:  55\n",
      "The product is:  3628800\n"
     ]
    }
   ],
   "source": [
    "#Question 2\n",
    "sum=0\n",
    "product=1\n",
    "for i in range(1,11):\n",
    "    sum = sum+i\n",
    "    product = product*i\n",
    "print(\"The sum is: \", sum)\n",
    "print(\"The product is: \", product)\n",
    "\n",
    "#Using while loop\n",
    "sum2 =0\n",
    "prod2 =1\n",
    "i=1\n",
    "while i!=11 :\n",
    "    sum2 = sum2+i\n",
    "    prod2 = prod2*i\n",
    "    i=i+1\n",
    "   \n",
    "print(\"The sum is: \", sum2)\n",
    "print(\"The product is: \", prod2)\n"
   ]
  },
  {
   "cell_type": "code",
   "execution_count": 5,
   "id": "8ee0a416-c98c-4ea8-819e-f2a29f8f7be8",
   "metadata": {},
   "outputs": [
    {
     "name": "stdin",
     "output_type": "stream",
     "text": [
      "Enter the electricity units: 310\n"
     ]
    },
    {
     "name": "stdout",
     "output_type": "stream",
     "text": [
      "2250.0\n"
     ]
    }
   ],
   "source": [
    "#Question 3\n",
    "n = int(input(\"Enter the electricity units:\"))\n",
    "cost=0\n",
    "if(n<=100) :\n",
    "    cost = 4.5*n\n",
    "elif(n<=200 and n>100) :\n",
    "    cost = 4.5*100 + 6*(n-100)\n",
    "elif(n<=300 and n>200) :\n",
    "    cost = 4.5*100 + 6*100 + 10*(n-200)\n",
    "else :\n",
    "    cost = 4.5*100 + 6*100 + 10*100 + 20*(n-300)\n",
    "print(cost)\n"
   ]
  },
  {
   "cell_type": "code",
   "execution_count": 8,
   "id": "9b541a7f-1462-4d6d-9ce6-b58221aa118f",
   "metadata": {},
   "outputs": [
    {
     "name": "stdout",
     "output_type": "stream",
     "text": [
      "[1, 2, 3, 4, 5, 6, 7, 8, 9, 10, 11, 12, 13, 14, 15, 16, 17, 18, 19, 20, 21, 22, 23, 24, 25, 26, 27, 28, 29, 30, 31, 32, 33, 34, 35, 36, 37, 38, 39, 40, 41, 42, 43, 44, 45, 46, 47, 48, 49, 50, 51, 52, 53, 54, 55, 56, 57, 58, 59, 60, 61, 62, 63, 64, 65, 66, 67, 68, 69, 70, 71, 72, 73, 74, 75, 76, 77, 78, 79, 80, 81, 82, 83, 84, 85, 86, 87, 88, 89, 90, 91, 92, 93, 94, 95, 96, 97, 98, 99, 100]\n",
      "[2, 4, 5, 6, 8, 10, 12, 14, 15, 16, 18, 20, 22, 24, 25, 26, 28, 30, 32, 34, 35, 36, 38, 40, 42, 44, 45, 46, 48, 50, 52, 54, 55, 56, 58, 60, 62, 64, 65, 66, 68, 70, 72, 74, 75, 76, 78, 80, 82, 84, 85, 86, 88, 90, 92, 94, 95, 96, 98, 100]\n"
     ]
    }
   ],
   "source": [
    "#Question 4\n",
    "l1 = []\n",
    "for i in range(1,101) :\n",
    "    l1.append(i)\n",
    "print(l1)\n",
    "l2=[]\n",
    "for k in l1:\n",
    "    num = k*k*k\n",
    "    if(num%4==0 or num%5==0):\n",
    "        l2.append(k)\n",
    "\n",
    "print(l2)"
   ]
  },
  {
   "cell_type": "code",
   "execution_count": 11,
   "id": "35c61321-9066-4a4b-9d6e-effac6ec99da",
   "metadata": {},
   "outputs": [
    {
     "name": "stdout",
     "output_type": "stream",
     "text": [
      "I wnt t bcm  dt scntst\n"
     ]
    }
   ],
   "source": [
    "#Question 5\n",
    "string =  \"I want to become a data scientist\"\n",
    "s=\"\"\n",
    "for i in string:\n",
    "    if(i=='a' or i=='e' or i=='i' or i=='o' or i=='u'):\n",
    "        continue\n",
    "    s = s+i\n",
    "string = s\n",
    "print(string)"
   ]
  },
  {
   "cell_type": "code",
   "execution_count": null,
   "id": "e10d6432-9396-4f4d-8f59-bcc857a19ec3",
   "metadata": {},
   "outputs": [],
   "source": []
  }
 ],
 "metadata": {
  "kernelspec": {
   "display_name": "Python 3 (ipykernel)",
   "language": "python",
   "name": "python3"
  },
  "language_info": {
   "codemirror_mode": {
    "name": "ipython",
    "version": 3
   },
   "file_extension": ".py",
   "mimetype": "text/x-python",
   "name": "python",
   "nbconvert_exporter": "python",
   "pygments_lexer": "ipython3",
   "version": "3.10.8"
  }
 },
 "nbformat": 4,
 "nbformat_minor": 5
}
