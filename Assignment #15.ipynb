{
 "cells": [
  {
   "cell_type": "code",
   "execution_count": null,
   "id": "02f5a5f2-6da3-4412-8387-0a986fba3746",
   "metadata": {},
   "outputs": [],
   "source": [
    "#Question 1\n",
    "A database is a collection of data that is organized in a way that allows for efficient storage, retrieval, and \n",
    "manipulation of the data. \n",
    "There are two main types of databases: SQL (relational) and NoSQL (non-relational).\n",
    "\n",
    "SQL databases are based on the relational data model, where data is organized into tables with rows and columns. \n",
    "SQL (Structured Query Language) is used to query and manage the data stored in these tables. \n",
    "Examples of SQL databases include MySQL, Oracle, Microsoft SQL Server,etc. SQL databases are known for their strong \n",
    "consistency, ACID transactions, and support for complex queries and data relationships.\n",
    "\n",
    "NoSQL databases, on the other hand, are not based on the relational data model. Instead, they use different data models, \n",
    "such as document, key-value, graph, or column-family. NoSQL databases typically provide high scalability and availability,\n",
    "as well as flexible data structures that can be easily modified. Examples of NoSQL databases include MongoDB, Cassandra, etc. NoSQL databases are often used in big data, real-time analytics, and web-scale applications.\n",
    "\n",
    "In summary, SQL databases are best suited for applications that require strong consistency and complex queries, \n",
    "while NoSQL databases are more suitable for applications that require high scalability, availability, and flexibility. \n",
    "Choosing the right database depends on the specific requirements of the application and the data being stored."
   ]
  },
  {
   "cell_type": "code",
   "execution_count": null,
   "id": "fc56cafd-8d18-434d-a90e-4c80c3a6a2cb",
   "metadata": {},
   "outputs": [],
   "source": [
    "#QUestion 2\n",
    "DDL stands for Data Definition Language, and it is a subset of SQL (Structured Query Language) that is used to define \n",
    "and modify the structure of a database. DDL statements are used to create, modify, and delete database objects such\n",
    "as tables, indexes, views, and constraints.\n",
    "\n",
    "(i) CREATE - CREATE: The CREATE statement is used to create a new database object such as a table. \n",
    "Here's an example of creating a table named \"users\" with three columns: \"id\", \"name\", and \"email\"."
   ]
  },
  {
   "cell_type": "code",
   "execution_count": 1,
   "id": "39eba3a1-5ca6-44ae-b192-5b5a810ec6ea",
   "metadata": {},
   "outputs": [],
   "source": [
    "import mysql.connector\n",
    "\n",
    "# connect to the database\n",
    "mydb = mysql.connector.connect(\n",
    "    host = \"localhost\",\n",
    "    user = \"abc\",\n",
    "    password = \"password\"\n",
    ")\n",
    "conn = mydb.cursor()\n",
    "conn.execute('''CREATE TABLE users\n",
    "                 (id INTEGER PRIMARY KEY,\n",
    "                  name TEXT NOT NULL,\n",
    "                  email TEXT NOT NULL);''')\n",
    "\n",
    "# commit the changes and close the connection\n",
    "mydb.commit()\n",
    "mydb.close()\n"
   ]
  },
  {
   "cell_type": "code",
   "execution_count": null,
   "id": "9dc09f8a-d230-4f1e-932c-f781101d773a",
   "metadata": {},
   "outputs": [],
   "source": [
    "DROP: The DROP statement is used to remove a database object such as a table. \n",
    "Here's an example of dropping the \"users\" table:"
   ]
  },
  {
   "cell_type": "code",
   "execution_count": null,
   "id": "e596f17e-06bc-44a8-ac5e-19a4c1cd5b2a",
   "metadata": {},
   "outputs": [],
   "source": [
    "import mysql.connector\n",
    "\n",
    "# connect to the database\n",
    "mydb = mysql.connector.connect(\n",
    "    host = \"localhost\",\n",
    "    user = \"abc\",\n",
    "    password = \"password\"\n",
    ")\n",
    "conn = mydb.cursor()\n",
    "# drop the table\n",
    "conn.execute('DROP TABLE users;')\n",
    "\n",
    "# commit the changes and close the connection\n",
    "mydb.commit()\n",
    "mydb.close()\n"
   ]
  },
  {
   "cell_type": "code",
   "execution_count": null,
   "id": "0a57c65c-ca20-4aa8-91ae-6fd69afeb4cb",
   "metadata": {},
   "outputs": [],
   "source": [
    "ALTER: The ALTER statement is used to modify the structure of a database object such as a table. \n",
    "Here's an example of adding a new column \"age\" to the \"users\" table:"
   ]
  },
  {
   "cell_type": "code",
   "execution_count": null,
   "id": "feecb07c-4526-47f4-8584-d503a356b015",
   "metadata": {},
   "outputs": [],
   "source": [
    "import mysql.connector\n",
    "\n",
    "# connect to the database\n",
    "mydb = mysql.connector.connect(\n",
    "    host = \"localhost\",\n",
    "    user = \"abc\",\n",
    "    password = \"password\"\n",
    ")\n",
    "conn = mydb.cursor()\n",
    "# add a new column to the table\n",
    "conn.execute('ALTER TABLE users ADD COLUMN age INTEGER;')\n",
    "\n",
    "# commit the changes and close the connection\n",
    "mydb.commit()\n",
    "mydb.close()\n"
   ]
  },
  {
   "cell_type": "code",
   "execution_count": null,
   "id": "73fcf333-2799-42a4-936c-60aa3a7c9fba",
   "metadata": {},
   "outputs": [],
   "source": [
    "TRUNCATE: The TRUNCATE statement is used to remove all rows from a table, but keep the table structure intact. \n",
    "Here's an example of truncating the \"users\" table:"
   ]
  },
  {
   "cell_type": "code",
   "execution_count": null,
   "id": "bfde1ee3-03f9-4f37-9a0a-a9ab6dd92f90",
   "metadata": {},
   "outputs": [],
   "source": [
    "import mysql.connector\n",
    "\n",
    "# connect to the database\n",
    "mydb = mysql.connector.connect(\n",
    "    host = \"localhost\",\n",
    "    user = \"abc\",\n",
    "    password = \"password\"\n",
    ")\n",
    "conn = mydb.cursor()\n",
    "# truncate the table\n",
    "conn.execute('DELETE FROM users;')\n",
    "\n",
    "# commit the changes and close the connection\n",
    "mydb.commit()\n",
    "mydb.close()\n"
   ]
  },
  {
   "cell_type": "code",
   "execution_count": null,
   "id": "1b3642b5-6737-49bb-9bc1-2ef7e5763f68",
   "metadata": {},
   "outputs": [],
   "source": [
    "#Question 3\n",
    "DML stands for Data Manipulation Language, and it is a subset of SQL (Structured Query Language) that is \n",
    "used to manipulate the data stored in a database. \n",
    "DML statements are used to insert, update, and delete data from database tables."
   ]
  },
  {
   "cell_type": "code",
   "execution_count": null,
   "id": "4c0cc53a-eee3-4f6d-be92-cd7c1ff6a010",
   "metadata": {},
   "outputs": [],
   "source": [
    "INSERT: The INSERT statement is used to add new rows of data to a table. \n",
    "Here's an example of inserting a new row into the \"users\" table:"
   ]
  },
  {
   "cell_type": "code",
   "execution_count": null,
   "id": "3aa17e24-85d1-4618-8ac9-254f36b7c30a",
   "metadata": {},
   "outputs": [],
   "source": [
    "import mysql.connector\n",
    "\n",
    "# connect to the database\n",
    "mydb = mysql.connector.connect(\n",
    "    host = \"localhost\",\n",
    "    user = \"abc\",\n",
    "    password = \"password\"\n",
    ")\n",
    "conn = mydb.cursor()\n",
    "\n",
    "# insert a new row into the table\n",
    "conn.execute(\"INSERT INTO users (name, email) VALUES ('Alice', 'alice@example.com');\")\n",
    "\n",
    "# commit the changes and close the connection\n",
    "mydb.commit()\n",
    "mydb.close()\n"
   ]
  },
  {
   "cell_type": "code",
   "execution_count": null,
   "id": "c6ed968b-0299-4d8e-867a-40ef144a4d3f",
   "metadata": {},
   "outputs": [],
   "source": [
    "UPDATE: The UPDATE statement is used to modify existing rows of data in a table.\n",
    "Here's an example of updating the email of a user with the name \"Alice\":"
   ]
  },
  {
   "cell_type": "code",
   "execution_count": null,
   "id": "f5181fab-0c6b-49b1-a6e5-efffcc387c29",
   "metadata": {},
   "outputs": [],
   "source": [
    "import mysql.connector\n",
    "\n",
    "# connect to the database\n",
    "mydb = mysql.connector.connect(\n",
    "    host = \"localhost\",\n",
    "    user = \"abc\",\n",
    "    password = \"password\"\n",
    ")\n",
    "conn = mydb.cursor()\n",
    "# update the email of a user\n",
    "conn.execute(\"UPDATE users SET email = 'new-email@example.com' WHERE name = 'Alice';\")\n",
    "\n",
    "# commit the changes and close the connection\n",
    "mydb.commit()\n",
    "mydb.close()\n"
   ]
  },
  {
   "cell_type": "code",
   "execution_count": null,
   "id": "559d14bc-78ff-4cb0-bbeb-01544911d061",
   "metadata": {},
   "outputs": [],
   "source": [
    "DELETE: The DELETE statement is used to remove rows of data from a table. \n",
    "Here's an example of deleting all users with an email ending in \"@example.com\":"
   ]
  },
  {
   "cell_type": "code",
   "execution_count": null,
   "id": "9d83e6bb-0432-4cf4-a988-993e498da984",
   "metadata": {},
   "outputs": [],
   "source": [
    "import mysql.connector\n",
    "\n",
    "# connect to the database\n",
    "mydb = mysql.connector.connect(\n",
    "    host = \"localhost\",\n",
    "    user = \"abc\",\n",
    "    password = \"password\"\n",
    ")\n",
    "conn = mydb.cursor()\n",
    "# delete users with a matching email\n",
    "conn.execute(\"DELETE FROM users WHERE email LIKE '%@example.com';\")\n",
    "\n",
    "# commit the changes and close the connection\n",
    "mydb.commit()\n",
    "mydb.close()\n"
   ]
  },
  {
   "cell_type": "code",
   "execution_count": null,
   "id": "77a3d147-ecbd-4284-930b-5e13635dc234",
   "metadata": {},
   "outputs": [],
   "source": [
    "#Question 4\n",
    "DQL stands for Data Query Language, and it is a subset of SQL (Structured Query Language) that is used to query data from a database. \n",
    "DQL statements are used to retrieve data from database tables."
   ]
  },
  {
   "cell_type": "code",
   "execution_count": null,
   "id": "13dbb995-96ba-4494-aba9-af0a4a769870",
   "metadata": {},
   "outputs": [],
   "source": [
    "SELECT - The execute() method of the connection object is used to execute the SELECT statement, \n",
    "and the cursor object is used to iterate over the results. \n",
    "The * character is used as a wildcard to select all columns from the table. \n",
    "Example->\n"
   ]
  },
  {
   "cell_type": "code",
   "execution_count": null,
   "id": "3993bdfb-acbd-49c1-9c26-38a7b73e11a8",
   "metadata": {},
   "outputs": [],
   "source": [
    "import mysql.connector\n",
    "\n",
    "# connect to the database\n",
    "mydb = mysql.connector.connect(\n",
    "    host = \"localhost\",\n",
    "    user = \"abc\",\n",
    "    password = \"password\"\n",
    ")\n",
    "conn = mydb.cursor()\n",
    "cursor = conn.execute(\"SELECT * FROM users;\")\n",
    "\n",
    "# iterate over the results and print each row\n",
    "for row in cursor:\n",
    "    print(row)\n",
    "\n",
    "# close the cursor and connection\n",
    "cursor.close()\n",
    "mydb.close()\n"
   ]
  },
  {
   "cell_type": "code",
   "execution_count": null,
   "id": "76e350cf-c2ee-42cd-809d-5eca723f3247",
   "metadata": {},
   "outputs": [],
   "source": [
    "#Question 5\n",
    "In relational databases, a primary key is a column or set of columns that uniquely identifies each row in a table. \n",
    "It is a constraint that ensures that each row in the table is unique and can be uniquely identified. \n",
    "Primary keys are used to establish relationships between tables,  and are often used as the basis for foreign keys in related tables.\n",
    "A foreign key is a column or set of columns in one table that refers to the primary key of another table. \n",
    "It establishes a relationship between two tables, allowing you to link data across tables. \n",
    "The foreign key constraint ensures that the values in the column(s) of the referencing table (the one with the foreign key)\n",
    "match the values in the primary key column(s) of the referenced table. \n",
    "This ensures referential integrity, which means that the data in the database is consistent and accurate.\n"
   ]
  },
  {
   "cell_type": "code",
   "execution_count": null,
   "id": "1df78fdb-df7b-434a-a722-f4f36551cf0d",
   "metadata": {},
   "outputs": [],
   "source": [
    "#Question 6\n",
    "Code->\n",
    "import mysql.connector\n",
    "\n",
    "# connect to the database\n",
    "mydb = mysql.connector.connect(\n",
    "    host = \"localhost\",\n",
    "    user = \"abc\",\n",
    "    password = \"password\"\n",
    ")\n",
    "conn = mydb.cursor()\n",
    "\n",
    "After this we can perform any operation that we want on this database.\n",
    "The execute() method of the connection object is used to execute the SELECT statement, \n",
    "and the cursor object is used to iterate over the results."
   ]
  },
  {
   "cell_type": "code",
   "execution_count": null,
   "id": "85133583-45cb-4e71-88b3-7ec8eaf53765",
   "metadata": {},
   "outputs": [],
   "source": [
    "#Question 7\n",
    "In a standard SQL query, the clauses are executed in a specific order, as follows:\n",
    "\n",
    "FROM: The FROM clause specifies the table or tables from which to select data.\n",
    "\n",
    "JOIN: If multiple tables are used, the JOIN clause is used to specify how the tables are related.\n",
    "\n",
    "WHERE: The WHERE clause is used to filter the data based on a specified condition.\n",
    "\n",
    "GROUP BY: The GROUP BY clause is used to group the data by one or more columns.\n",
    "\n",
    "HAVING: The HAVING clause is used to filter the grouped data based on a specified condition.\n",
    "\n",
    "SELECT: The SELECT clause is used to specify the columns to be retrieved from the data.\n",
    "\n",
    "DISTINCT: The DISTINCT keyword is used to remove duplicate rows from the result set.\n",
    "\n",
    "ORDER BY: The ORDER BY clause is used to sort the result set by one or more columns.\n",
    "\n",
    "LIMIT/OFFSET: The LIMIT clause is used to specify the maximum number of rows to be returned, \n",
    "while the OFFSET clause is used to skip a certain number of rows from the beginning of the result set."
   ]
  }
 ],
 "metadata": {
  "kernelspec": {
   "display_name": "Python 3 (ipykernel)",
   "language": "python",
   "name": "python3"
  },
  "language_info": {
   "codemirror_mode": {
    "name": "ipython",
    "version": 3
   },
   "file_extension": ".py",
   "mimetype": "text/x-python",
   "name": "python",
   "nbconvert_exporter": "python",
   "pygments_lexer": "ipython3",
   "version": "3.10.8"
  }
 },
 "nbformat": 4,
 "nbformat_minor": 5
}
