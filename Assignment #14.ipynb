{
 "cells": [
  {
   "cell_type": "code",
   "execution_count": null,
   "id": "1765d231-0aa0-4daf-8fb4-c90f82580797",
   "metadata": {},
   "outputs": [],
   "source": [
    "#Question 1\n",
    "Multithreading is defined as the ability of a processor to execute multiple threads concurrently.\n",
    "Multithreading allows the execution of multiple parts of a program at the same time.\n",
    "These parts are known as threads and are lightweight processes available within the process. \n",
    "So multithreading leads to maximum utilization of the CPU by multitasking.\n",
    "In Python, the threading module provides a very simple and intuitive API for spawning multiple threads in a program."
   ]
  },
  {
   "cell_type": "code",
   "execution_count": null,
   "id": "4a21d0e3-ac8e-4b55-bdfe-d19f16e560e1",
   "metadata": {},
   "outputs": [],
   "source": [
    "#Question 2\n",
    "Threading module is used to enable multithreading in python, which is defined in the question 1.\n",
    "(i) activeCount() − Returns the number of thread objects that are active.\n",
    "(ii) currentThread() − Returns the number of thread objects in the caller's thread control.\n",
    "(iii) enumerate() − Returns a list of all thread objects that are currently active."
   ]
  },
  {
   "cell_type": "code",
   "execution_count": null,
   "id": "a14972df-26d9-44ab-aff0-e8bd6239b35b",
   "metadata": {},
   "outputs": [],
   "source": [
    "#Question 3\n",
    "(i) run()  − The run() method is the entry point for a thread.\n",
    "(ii) start()  − The start() method starts a thread by calling the run method.\n",
    "(iii) join()  − The join() waits for threads to terminate.\n",
    "(iv) isAlive()  − The isAlive() method checks whether a thread is still executing."
   ]
  },
  {
   "cell_type": "code",
   "execution_count": 5,
   "id": "b82c025d-0f12-4794-8b62-bb72c3a396d4",
   "metadata": {},
   "outputs": [
    {
     "name": "stdin",
     "output_type": "stream",
     "text": [
      "Enter the number 10\n"
     ]
    },
    {
     "name": "stdout",
     "output_type": "stream",
     "text": [
      "0 1 4 9 16 25 36 49 64 81 100 \n",
      "0 1 8 27 64 125 216 343 512 729 1000 "
     ]
    }
   ],
   "source": [
    "#Question 4\n",
    "a = int(input(\"Enter the number\"))\n",
    "import threading\n",
    "\n",
    "def square(id) :\n",
    "    print(id**2 , end=\" \")\n",
    "def cude(id):\n",
    "    print(id**3, end=\" \")\n",
    "thread = [threading.Thread(target = square, args=(i,)) for i in range(a+1)]\n",
    "for t in thread:\n",
    "    t.start()\n",
    "print()\n",
    "thread2 = [threading.Thread(target = cude, args = (i,)) for i in range(a+1)]\n",
    "for t in thread2:\n",
    "    t.start()"
   ]
  },
  {
   "cell_type": "code",
   "execution_count": null,
   "id": "a15857af-9c0f-4a0e-9500-4a0922617774",
   "metadata": {},
   "outputs": [],
   "source": [
    "#Question 5\n",
    "Advantages of multithreading:\n",
    "\n",
    "Enhanced performance by decreased development time\n",
    "Simplified and streamlined program coding\n",
    "Simultaneous and parallelized occurrence of tasks\n",
    "Better use of cache storage by utilization of resources\n",
    "Decreased cost of maintenance\n",
    "\n",
    "Disadvantages:\n",
    "\n",
    "Complex debugging and testing processes\n",
    "Overhead switching of context\n",
    "Increased potential for deadlock occurrence\n",
    "Increased difficulty level in writing a program\n",
    "Unpredictable results"
   ]
  },
  {
   "cell_type": "code",
   "execution_count": null,
   "id": "25b9e57b-4a47-4f6f-b0bb-166e4798090b",
   "metadata": {},
   "outputs": [],
   "source": [
    "#Question 6 \n",
    "A deadlock occurs when two threads each lock a different variable at the same time and then try to lock the variable \n",
    "that the other thread already locked. As a result, each thread stops executing and waits for the other thread to release the variable. \n",
    "Because each thread is holding the variable that the other thread wants, nothing occurs, and the threads remain deadlocked.\n",
    "\n",
    "A race condition occurs when two threads access a shared variable at the same time. The first thread reads the variable, and \n",
    "the second thread reads the same value from the variable. Then the first thread and second thread perform their operations\n",
    "on the value, and they race to see which thread can write the value last to the shared variable. \n",
    "The value of the thread that writes its value last is preserved, because the thread is writing over the value \n",
    "that the previous thread wrote."
   ]
  }
 ],
 "metadata": {
  "kernelspec": {
   "display_name": "Python 3 (ipykernel)",
   "language": "python",
   "name": "python3"
  },
  "language_info": {
   "codemirror_mode": {
    "name": "ipython",
    "version": 3
   },
   "file_extension": ".py",
   "mimetype": "text/x-python",
   "name": "python",
   "nbconvert_exporter": "python",
   "pygments_lexer": "ipython3",
   "version": "3.10.8"
  }
 },
 "nbformat": 4,
 "nbformat_minor": 5
}
