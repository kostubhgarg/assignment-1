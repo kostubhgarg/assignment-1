{
 "cells": [
  {
   "cell_type": "code",
   "execution_count": 3,
   "id": "17c682e6-a1b1-4a82-aa7a-e07a1e743387",
   "metadata": {},
   "outputs": [
    {
     "data": {
      "text/plain": [
       "\"In Python, an exception is an event that occurs during the execution of a program that disrupts the normal flow of the program's instructions. \\nWhen an exception occurs, the program execution is immediately halted, and Python looks for an exception handler that can handle \\nthe specific type of exception that occurred.\""
      ]
     },
     "execution_count": 3,
     "metadata": {},
     "output_type": "execute_result"
    }
   ],
   "source": [
    "#Question 1\n",
    "'''In Python, an exception is an event that occurs during the execution of a program that disrupts the normal flow of the program's instructions. \n",
    "When an exception occurs, the program execution is immediately halted, and Python looks for an exception handler that can handle \n",
    "the specific type of exception that occurred.'''\n",
    "The main difference between exceptions and syntax errors is that exceptions occur during the execution of the program, \n",
    "while syntax errors occur before the program is executed. \n",
    "In other words, exceptions are run-time errors, while syntax errors are compile-time errors. "
   ]
  },
  {
   "cell_type": "code",
   "execution_count": null,
   "id": "179a064c-17b5-4f3f-b90d-e346cae27a4c",
   "metadata": {},
   "outputs": [],
   "source": [
    "#Question 2\n",
    "If the exception is not handled by an except clause, the exception is re-raised after the finally clause has been executed.\n",
    "Example-> If we write an exception as zerodivision error, it will first find the except block, and if it is not handled, then this\n",
    "error is thrown during the run time.\n"
   ]
  },
  {
   "cell_type": "code",
   "execution_count": null,
   "id": "403b4827-9f86-4eff-841f-ac0f886f2748",
   "metadata": {},
   "outputs": [],
   "source": [
    "#Question 3\n",
    "Try and except statements are used to catch and handle exceptions in Python.\n",
    "Statements that can raise exceptions are kept inside the try clause and \n",
    "the statements that handle the exception are written inside except clause.\n",
    "Example->\n"
   ]
  },
  {
   "cell_type": "code",
   "execution_count": 4,
   "id": "28ac20dd-febf-4876-9125-38aba057fc28",
   "metadata": {},
   "outputs": [
    {
     "name": "stdout",
     "output_type": "stream",
     "text": [
      "Second element = 2\n",
      "An error occurred\n"
     ]
    }
   ],
   "source": [
    "a = [1, 2, 3]\n",
    "try:\n",
    "\tprint (\"Second element = %d\" %(a[1]))\n",
    "\n",
    "\t# Throws error since there are only 3 elements in array\n",
    "\tprint (\"Fourth element = %d\" %(a[3]))\n",
    "\n",
    "except:\n",
    "\tprint (\"An error occurred\")\n"
   ]
  },
  {
   "cell_type": "code",
   "execution_count": null,
   "id": "d6282e3b-b1c6-4050-a8b6-5d351c722289",
   "metadata": {},
   "outputs": [],
   "source": [
    "#Question 4\n",
    "(a) Try and else-> The code enters the else block only if the try clause does not raise an exception.\n",
    "Example-"
   ]
  },
  {
   "cell_type": "code",
   "execution_count": 10,
   "id": "6cfa4018-0e18-4963-b23d-78e9201ec440",
   "metadata": {},
   "outputs": [
    {
     "name": "stdout",
     "output_type": "stream",
     "text": [
      "-5.0\n",
      "a/b result in 0\n"
     ]
    }
   ],
   "source": [
    "def AbyB(a , b):\n",
    "\ttry:\n",
    "\t\tc = ((a+b) / (a-b))\n",
    "\texcept ZeroDivisionError:\n",
    "\t\tprint (\"a/b result in 0\")\n",
    "\telse:\n",
    "\t\tprint (c)\n",
    "\n",
    "# Driver program to test above function\n",
    "AbyB(2.0, 3.0)\n",
    "AbyB(3.0, 3.0)\n",
    "\n",
    "\n"
   ]
  },
  {
   "cell_type": "code",
   "execution_count": 8,
   "id": "0e53288f-eaf7-4cb6-8678-4f551bffb0eb",
   "metadata": {},
   "outputs": [],
   "source": [
    "(b) finally-> The final block always executes after normal termination of try block or after try block terminates due to some exception.\n",
    "Example->"
   ]
  },
  {
   "cell_type": "code",
   "execution_count": 9,
   "id": "903709cd-6ee8-4514-9b60-d601727f7b6f",
   "metadata": {},
   "outputs": [
    {
     "name": "stdout",
     "output_type": "stream",
     "text": [
      "Can't divide by zero\n",
      "This is always executed\n"
     ]
    }
   ],
   "source": [
    "try:\n",
    "\tk = 5//0\n",
    "\tprint(k)\n",
    "\n",
    "except ZeroDivisionError:\n",
    "\tprint(\"Can't divide by zero\")\n",
    "\n",
    "finally:\n",
    "\t# this block is always executed\n",
    "\t# regardless of exception generation.\n",
    "\tprint('This is always executed')\n"
   ]
  },
  {
   "cell_type": "code",
   "execution_count": null,
   "id": "70dbe786-ef8e-4a31-a258-97ef749c37c4",
   "metadata": {},
   "outputs": [],
   "source": [
    "(c) raise-> The raise statement allows the programmer to force a specific exception to occur.\n",
    "Example->"
   ]
  },
  {
   "cell_type": "code",
   "execution_count": 11,
   "id": "9f2e06dc-20f3-4e4e-ad64-6aa73af2fbae",
   "metadata": {},
   "outputs": [
    {
     "name": "stdout",
     "output_type": "stream",
     "text": [
      "An exception\n"
     ]
    },
    {
     "ename": "NameError",
     "evalue": "Hi there",
     "output_type": "error",
     "traceback": [
      "\u001b[0;31m---------------------------------------------------------------------------\u001b[0m",
      "\u001b[0;31mNameError\u001b[0m                                 Traceback (most recent call last)",
      "Cell \u001b[0;32mIn[11], line 2\u001b[0m\n\u001b[1;32m      1\u001b[0m \u001b[38;5;28;01mtry\u001b[39;00m:\n\u001b[0;32m----> 2\u001b[0m \t\u001b[38;5;28;01mraise\u001b[39;00m \u001b[38;5;167;01mNameError\u001b[39;00m(\u001b[38;5;124m\"\u001b[39m\u001b[38;5;124mHi there\u001b[39m\u001b[38;5;124m\"\u001b[39m) \u001b[38;5;66;03m# Raise Error\u001b[39;00m\n\u001b[1;32m      3\u001b[0m \u001b[38;5;28;01mexcept\u001b[39;00m \u001b[38;5;167;01mNameError\u001b[39;00m:\n\u001b[1;32m      4\u001b[0m \t\u001b[38;5;28mprint\u001b[39m (\u001b[38;5;124m\"\u001b[39m\u001b[38;5;124mAn exception\u001b[39m\u001b[38;5;124m\"\u001b[39m)\n",
      "\u001b[0;31mNameError\u001b[0m: Hi there"
     ]
    }
   ],
   "source": [
    "try:\n",
    "\traise NameError(\"Hi there\") # Raise Error\n",
    "except NameError:\n",
    "\tprint (\"An exception\")\n",
    "\traise # To determine whether the exception was raised or not\n"
   ]
  },
  {
   "cell_type": "code",
   "execution_count": null,
   "id": "32bccf80-348e-48be-bc76-37826cdfe3d1",
   "metadata": {},
   "outputs": [],
   "source": [
    "#Question 5\n",
    "Custom exceptions in Python are exceptions that you define yourself by creating a new class that inherits from the built-in Exception class \n",
    "or one of its subclasses. Overall, custom exceptions can help you write more robust, maintainable, and understandable code, \n",
    "and they are a powerful tool in Python's exception handling system, therefore they are needed. Example->\n"
   ]
  },
  {
   "cell_type": "code",
   "execution_count": 13,
   "id": "eef83dd2-d3d0-4741-b573-93ce932a7569",
   "metadata": {},
   "outputs": [
    {
     "name": "stdin",
     "output_type": "stream",
     "text": [
      "Enter a number:  17\n"
     ]
    },
    {
     "name": "stdout",
     "output_type": "stream",
     "text": [
      "Exception occurred: Invalid Age\n"
     ]
    }
   ],
   "source": [
    "class InvalidAgeException(Exception):\n",
    "    \"Raised when the input value is less than 18\"\n",
    "    pass\n",
    "\n",
    "number = 18\n",
    "\n",
    "try:\n",
    "    input_num = int(input(\"Enter a number: \"))\n",
    "    if input_num < number:\n",
    "        raise InvalidAgeException\n",
    "    else:\n",
    "        print(\"Eligible to Vote\")\n",
    "        \n",
    "except InvalidAgeException:\n",
    "    print(\"Exception occurred: Invalid Age\")"
   ]
  },
  {
   "cell_type": "code",
   "execution_count": 14,
   "id": "3231a65a-2ddb-4e7b-b767-deac2ffe8d4c",
   "metadata": {},
   "outputs": [
    {
     "name": "stdin",
     "output_type": "stream",
     "text": [
      "Enter salary amount:  20000\n"
     ]
    },
    {
     "ename": "SalaryNotInRangeError",
     "evalue": "Salary is not in (5000, 15000) range",
     "output_type": "error",
     "traceback": [
      "\u001b[0;31m---------------------------------------------------------------------------\u001b[0m",
      "\u001b[0;31mSalaryNotInRangeError\u001b[0m                     Traceback (most recent call last)",
      "Cell \u001b[0;32mIn[14], line 12\u001b[0m\n\u001b[1;32m     10\u001b[0m salary \u001b[38;5;241m=\u001b[39m \u001b[38;5;28mint\u001b[39m(\u001b[38;5;28minput\u001b[39m(\u001b[38;5;124m\"\u001b[39m\u001b[38;5;124mEnter salary amount: \u001b[39m\u001b[38;5;124m\"\u001b[39m))\n\u001b[1;32m     11\u001b[0m \u001b[38;5;28;01mif\u001b[39;00m \u001b[38;5;129;01mnot\u001b[39;00m \u001b[38;5;241m5000\u001b[39m \u001b[38;5;241m<\u001b[39m salary \u001b[38;5;241m<\u001b[39m \u001b[38;5;241m15000\u001b[39m:\n\u001b[0;32m---> 12\u001b[0m     \u001b[38;5;28;01mraise\u001b[39;00m SalaryNotInRangeError(salary)\n",
      "\u001b[0;31mSalaryNotInRangeError\u001b[0m: Salary is not in (5000, 15000) range"
     ]
    }
   ],
   "source": [
    "#Question 6\n",
    "class SalaryNotInRangeError(Exception):\n",
    "   \n",
    "    def __init__(self, salary, message=\"Salary is not in (5000, 15000) range\"):\n",
    "        self.salary = salary\n",
    "        self.message = message\n",
    "        super().__init__(self.message)\n",
    "\n",
    "\n",
    "salary = int(input(\"Enter salary amount: \"))\n",
    "if not 5000 < salary < 15000:\n",
    "    raise SalaryNotInRangeError(salary)"
   ]
  },
  {
   "cell_type": "code",
   "execution_count": null,
   "id": "527ff773-55dd-448f-90b9-a326f8cca5ba",
   "metadata": {},
   "outputs": [],
   "source": []
  }
 ],
 "metadata": {
  "kernelspec": {
   "display_name": "Python 3 (ipykernel)",
   "language": "python",
   "name": "python3"
  },
  "language_info": {
   "codemirror_mode": {
    "name": "ipython",
    "version": 3
   },
   "file_extension": ".py",
   "mimetype": "text/x-python",
   "name": "python",
   "nbconvert_exporter": "python",
   "pygments_lexer": "ipython3",
   "version": "3.10.8"
  }
 },
 "nbformat": 4,
 "nbformat_minor": 5
}
