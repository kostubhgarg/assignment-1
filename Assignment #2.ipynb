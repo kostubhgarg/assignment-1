{
 "cells": [
  {
   "cell_type": "code",
   "execution_count": 1,
   "id": "effce56c-a907-4710-bc32-419330a7a4f6",
   "metadata": {},
   "outputs": [
    {
     "name": "stdin",
     "output_type": "stream",
     "text": [
      "Enter the percentage 45\n"
     ]
    }
   ],
   "source": [
    "a = int(input(\"Enter the percentage\"))"
   ]
  },
  {
   "cell_type": "code",
   "execution_count": 2,
   "id": "06ca9386-66b7-4219-a1be-5f889c2b41a6",
   "metadata": {},
   "outputs": [
    {
     "data": {
      "text/plain": [
       "45"
      ]
     },
     "execution_count": 2,
     "metadata": {},
     "output_type": "execute_result"
    }
   ],
   "source": [
    "a"
   ]
  },
  {
   "cell_type": "code",
   "execution_count": 7,
   "id": "c95911d7-ba9d-4adc-a836-ff71e2724eb7",
   "metadata": {
    "tags": []
   },
   "outputs": [
    {
     "name": "stdin",
     "output_type": "stream",
     "text": [
      "Enter the percentage 77\n"
     ]
    },
    {
     "name": "stdout",
     "output_type": "stream",
     "text": [
      "C\n"
     ]
    }
   ],
   "source": [
    "#Question 1\n",
    "a = int(input(\"Enter the percentage\"))\n",
    "if a>90 :\n",
    "    print('A')\n",
    "elif a>80 and a<=90 :\n",
    "    print('B')\n",
    "elif a>=60 and a<=80 :\n",
    "    print('C')\n",
    "else :\n",
    "    print('D')"
   ]
  },
  {
   "cell_type": "code",
   "execution_count": 8,
   "id": "791e0bb8-d5cb-40bc-9ea3-3b6fd4da4abd",
   "metadata": {},
   "outputs": [
    {
     "name": "stdin",
     "output_type": "stream",
     "text": [
      "Enter the cost price of the bike: 50000\n"
     ]
    },
    {
     "name": "stdout",
     "output_type": "stream",
     "text": [
      "The tax is 5%\n"
     ]
    }
   ],
   "source": [
    "#Question 2\n",
    "b = int(input(\"Enter the cost price of the bike:\"))\n",
    "if b>100000 :\n",
    "    print('The tax is 15%')\n",
    "elif b>50000 and b<=100000 :\n",
    "    print('The tax is 10%')\n",
    "else :\n",
    "    print('The tax is 5%')"
   ]
  },
  {
   "cell_type": "code",
   "execution_count": 9,
   "id": "8b45efd7-f0e1-4c35-ab58-e513a8297c8e",
   "metadata": {},
   "outputs": [
    {
     "name": "stdin",
     "output_type": "stream",
     "text": [
      "Enter the city name: Agra\n"
     ]
    },
    {
     "name": "stdout",
     "output_type": "stream",
     "text": [
      "Taj Mahal\n"
     ]
    }
   ],
   "source": [
    "#Question 3\n",
    "c = input(\"Enter the city name:\")\n",
    "if c=='Delhi' :\n",
    "    print('Red Fort')\n",
    "elif c == 'Agra' :\n",
    "    print('Taj Mahal')\n",
    "elif c == 'Jaiput' :\n",
    "    print('Jal Mahal')"
   ]
  },
  {
   "cell_type": "code",
   "execution_count": 16,
   "id": "d4b641d2-23d8-4988-a46e-a5bff5784258",
   "metadata": {},
   "outputs": [
    {
     "name": "stdin",
     "output_type": "stream",
     "text": [
      "Enter the number 300\n"
     ]
    },
    {
     "name": "stdout",
     "output_type": "stream",
     "text": [
      "4\n"
     ]
    }
   ],
   "source": [
    "#Question 4\n",
    "num = int(input(\"Enter the number\"))\n",
    "count=0\n",
    "while num>10 :\n",
    "    num = num/3\n",
    "    count= count+1\n",
    "    \n",
    "    \n",
    "print(count)"
   ]
  },
  {
   "cell_type": "code",
   "execution_count": 17,
   "id": "b3a41161-2671-4838-a70f-5da8c1f482f4",
   "metadata": {},
   "outputs": [
    {
     "data": {
      "text/plain": [
       "'With Python, you can use while loops to run the same task multiple times and for loops to loop once over list data.'"
      ]
     },
     "execution_count": 17,
     "metadata": {},
     "output_type": "execute_result"
    }
   ],
   "source": [
    "#Question 5\n",
    "\"\"\"With Python, you can use while loops to run the same task multiple times and for loops to loop once over list data.\n",
    "A \"While\" Loop is used to repeat a specific block of code an unknown number of times, until a condition is met\"\"\" \n",
    "Example->\n",
    "# program to display numbers from 1 to 5\n",
    "\n",
    "# initialize the variable\n",
    "i = 1\n",
    "n = 5\n",
    "\n",
    "# while loop from i = 1 to 5\n",
    "while i <= n:\n",
    "    print(i)\n",
    "    i = i + 1"
   ]
  },
  {
   "cell_type": "code",
   "execution_count": 21,
   "id": "ee5c6148-34ef-48c4-97a2-aab14da0f6f8",
   "metadata": {},
   "outputs": [
    {
     "name": "stdout",
     "output_type": "stream",
     "text": [
      "* * * * * \n",
      "* * * * * \n",
      "* * * * * \n",
      "* * * * * \n",
      "* * * * * \n"
     ]
    }
   ],
   "source": [
    "#Question 6\n",
    "n=5\n",
    "i=0\n",
    "while i<n:\n",
    "    j=0\n",
    "    while j<n:\n",
    "        print('*', end = \" \")\n",
    "        j=j+1\n",
    "    print()\n",
    "    i=i+1\n"
   ]
  },
  {
   "cell_type": "code",
   "execution_count": 22,
   "id": "a13f99de-ed06-48e7-a2ce-e09601ccb04b",
   "metadata": {},
   "outputs": [
    {
     "name": "stdout",
     "output_type": "stream",
     "text": [
      "\n",
      "* \n",
      "* * \n",
      "* * * \n",
      "* * * * \n"
     ]
    }
   ],
   "source": [
    "n=5\n",
    "i=0\n",
    "while i<n:\n",
    "    j=0\n",
    "    while j<i:\n",
    "        print('*', end = \" \")\n",
    "        j=j+1\n",
    "    print()\n",
    "    i=i+1"
   ]
  },
  {
   "cell_type": "code",
   "execution_count": 25,
   "id": "cedad0db-7f9b-411e-84f3-2de0d47ad3d8",
   "metadata": {},
   "outputs": [
    {
     "name": "stdout",
     "output_type": "stream",
     "text": [
      "* * * * * \n",
      "* * * * \n",
      "* * * \n",
      "* * \n",
      "* \n"
     ]
    }
   ],
   "source": [
    "n=5\n",
    "i=0\n",
    "while i<n:\n",
    "    j=n\n",
    "    while j>i:\n",
    "        print('*', end = \" \")\n",
    "        j=j-1\n",
    "    print()\n",
    "    i=i+1"
   ]
  },
  {
   "cell_type": "code",
   "execution_count": 27,
   "id": "61ac1eec-9bae-4f3b-afbf-4ef9f93eb1e6",
   "metadata": {},
   "outputs": [
    {
     "name": "stdout",
     "output_type": "stream",
     "text": [
      "10 9 8 7 6 5 4 3 2 1 "
     ]
    }
   ],
   "source": [
    "#Question 7\n",
    "n=10\n",
    "while(n>0):\n",
    "    print(n,end=\" \")\n",
    "    n=n-1"
   ]
  },
  {
   "cell_type": "code",
   "execution_count": 28,
   "id": "51ef45fc-fc9a-4690-abcf-18344a3d2c69",
   "metadata": {},
   "outputs": [
    {
     "name": "stdout",
     "output_type": "stream",
     "text": [
      "10 9 8 7 6 5 4 3 2 1 "
     ]
    }
   ],
   "source": [
    "#Question 8\n",
    "n=10\n",
    "while(n>0):\n",
    "    print(n,end=\" \")\n",
    "    n=n-1"
   ]
  },
  {
   "cell_type": "code",
   "execution_count": null,
   "id": "1263bd1a-9f50-4fbf-969a-5072e2b5c761",
   "metadata": {},
   "outputs": [],
   "source": []
  }
 ],
 "metadata": {
  "kernelspec": {
   "display_name": "Python 3 (ipykernel)",
   "language": "python",
   "name": "python3"
  },
  "language_info": {
   "codemirror_mode": {
    "name": "ipython",
    "version": 3
   },
   "file_extension": ".py",
   "mimetype": "text/x-python",
   "name": "python",
   "nbconvert_exporter": "python",
   "pygments_lexer": "ipython3",
   "version": "3.10.8"
  }
 },
 "nbformat": 4,
 "nbformat_minor": 5
}
