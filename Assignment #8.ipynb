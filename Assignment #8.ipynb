{
 "cells": [
  {
   "cell_type": "code",
   "execution_count": 9,
   "id": "d5c0b82d-bac0-42f3-a80f-c92a4af48133",
   "metadata": {},
   "outputs": [
    {
     "name": "stdin",
     "output_type": "stream",
     "text": [
      "Enter your password abcDEF123@#$\n"
     ]
    },
    {
     "data": {
      "text/plain": [
       "'Valid Password'"
      ]
     },
     "execution_count": 9,
     "metadata": {},
     "output_type": "execute_result"
    }
   ],
   "source": [
    "#Question 1\n",
    "a = str(input(\"Enter your password\"))\n",
    "def check(a):\n",
    "    s='[@_!#$%^&*()<>?/\\|}{~:]'\n",
    "    uppercase=0\n",
    "    lowercase=0\n",
    "    digit=0\n",
    "    specialchar=0\n",
    "    for i in a:\n",
    "        if(i.isupper()):\n",
    "            uppercase+=1\n",
    "        if(i.islower()):\n",
    "            lowercase+=1\n",
    "        if(i.isdigit()):\n",
    "            digit+=1\n",
    "        if(i in s):\n",
    "            specialchar+=1\n",
    "    if(uppercase>=2 and lowercase>=2 and digit>=1 and specialchar>=3 and len(a)>=10):\n",
    "        return \"Valid Password\"\n",
    "    else:\n",
    "        return \"Invalid Password\"\n",
    "\n",
    "check(a)"
   ]
  },
  {
   "cell_type": "code",
   "execution_count": 5,
   "id": "74871b7a-c053-4663-a0fd-0a5e81b91134",
   "metadata": {},
   "outputs": [
    {
     "name": "stdin",
     "output_type": "stream",
     "text": [
      "Enter the string India\n"
     ]
    },
    {
     "name": "stdout",
     "output_type": "stream",
     "text": [
      "True\n"
     ]
    }
   ],
   "source": [
    "#Question 2 Part 1\n",
    "b = input(\"Enter the string\")\n",
    "c = lambda string : True if string.startswith('I') else False\n",
    "print(c(b))"
   ]
  },
  {
   "cell_type": "code",
   "execution_count": 9,
   "id": "fc57ca0d-2d82-4e8c-b7e4-486ea32ce9b0",
   "metadata": {},
   "outputs": [
    {
     "name": "stdin",
     "output_type": "stream",
     "text": [
      "Enter the string 3921481\n"
     ]
    },
    {
     "name": "stdout",
     "output_type": "stream",
     "text": [
      "True\n"
     ]
    }
   ],
   "source": [
    "#Question 2 Part 2\n",
    "d= input(\"Enter the string\")\n",
    "e = lambda string : True if string.isnumeric() else False\n",
    "print(e(d))"
   ]
  },
  {
   "cell_type": "code",
   "execution_count": 10,
   "id": "a98656fc-e5b9-4714-80c7-5262d313ad11",
   "metadata": {},
   "outputs": [
    {
     "data": {
      "text/plain": [
       "[('orange', 80), ('mango', 99), ('grapes', 1000)]"
      ]
     },
     "execution_count": 10,
     "metadata": {},
     "output_type": "execute_result"
    }
   ],
   "source": [
    "#Question 2 Part 3\n",
    "l = [(\"mango\",99),(\"orange\",80), (\"grapes\", 1000)]\n",
    "l.sort(key = lambda x: x[1])\n",
    "l"
   ]
  },
  {
   "cell_type": "code",
   "execution_count": 14,
   "id": "b1c14e63-05a6-4541-be53-728c52d46794",
   "metadata": {},
   "outputs": [
    {
     "data": {
      "text/plain": [
       "[1, 4, 9, 16, 25, 36, 49, 64, 81, 100]"
      ]
     },
     "execution_count": 14,
     "metadata": {},
     "output_type": "execute_result"
    }
   ],
   "source": [
    "#Question 2 Part 4\n",
    "l=[]\n",
    "for i in range(1,11):\n",
    "    l.append(i)\n",
    "l = [i**2 for i in l]\n",
    "l"
   ]
  },
  {
   "cell_type": "code",
   "execution_count": 16,
   "id": "fee8b1f7-e4fb-474e-a0eb-cf9ab23cc914",
   "metadata": {},
   "outputs": [
    {
     "name": "stdout",
     "output_type": "stream",
     "text": [
      "[1.0, 1.5874010519681996, 2.080083823051904, 2.519842099789747, 2.924017738212866, 3.3019272488946267, 3.6593057100229713, 4.0, 4.326748710922225, 4.641588833612778] "
     ]
    }
   ],
   "source": [
    "#Question 2 Part 5\n",
    "import numpy as np\n",
    "l2 = []\n",
    "for i in range(1,11):\n",
    "    l2.append(i)\n",
    "l2 = [np.cbrt(i) for i in l]\n",
    "print(l2,end=\" \")"
   ]
  },
  {
   "cell_type": "code",
   "execution_count": 18,
   "id": "784c6913-ec92-4c88-9b82-6f092764af69",
   "metadata": {},
   "outputs": [
    {
     "name": "stdin",
     "output_type": "stream",
     "text": [
      " 1234\n"
     ]
    },
    {
     "data": {
      "text/plain": [
       "True"
      ]
     },
     "execution_count": 18,
     "metadata": {},
     "output_type": "execute_result"
    }
   ],
   "source": [
    "#Question 2 Part 6\n",
    "x = int(input())\n",
    "check = lambda x: True if x%2==0 else False\n",
    "check(x)"
   ]
  },
  {
   "cell_type": "code",
   "execution_count": 19,
   "id": "8da7db4e-3cc6-43bc-a8e7-cf4284831866",
   "metadata": {},
   "outputs": [
    {
     "data": {
      "text/plain": [
       "[1, 3, 5, 7, 9]"
      ]
     },
     "execution_count": 19,
     "metadata": {},
     "output_type": "execute_result"
    }
   ],
   "source": [
    "#Question 2 Part 7\n",
    "l3= [1,2,3,4,5,6,7,8,9,10]\n",
    "l3 = list(filter(lambda x: x%2!=0,l3))\n",
    "l3"
   ]
  },
  {
   "cell_type": "code",
   "execution_count": 21,
   "id": "708d32eb-e185-4d61-a34e-07f795c1cb50",
   "metadata": {},
   "outputs": [
    {
     "data": {
      "text/plain": [
       "[0, 1, 2, 3, 4, 5, 6, -5, -4, -3, -2, -1]"
      ]
     },
     "execution_count": 21,
     "metadata": {},
     "output_type": "execute_result"
    }
   ],
   "source": [
    "#Question 2 Part 8\n",
    "l4 = [1,2,3,4,5,6,-1,-2,-3,-4,-5,0]\n",
    "res =  sorted(filter(lambda x: x >= 0, l4)) + sorted(filter(lambda x: x < 0, l4))\n",
    "res"
   ]
  },
  {
   "cell_type": "code",
   "execution_count": null,
   "id": "eeaef34e-524e-470c-a2ad-1533a1eca20e",
   "metadata": {},
   "outputs": [],
   "source": []
  }
 ],
 "metadata": {
  "kernelspec": {
   "display_name": "Python 3 (ipykernel)",
   "language": "python",
   "name": "python3"
  },
  "language_info": {
   "codemirror_mode": {
    "name": "ipython",
    "version": 3
   },
   "file_extension": ".py",
   "mimetype": "text/x-python",
   "name": "python",
   "nbconvert_exporter": "python",
   "pygments_lexer": "ipython3",
   "version": "3.10.8"
  }
 },
 "nbformat": 4,
 "nbformat_minor": 5
}
