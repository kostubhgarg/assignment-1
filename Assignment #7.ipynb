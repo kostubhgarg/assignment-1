{
 "cells": [
  {
   "cell_type": "code",
   "execution_count": 18,
   "id": "b55ef5eb-82dc-4f66-8bf2-1e77ab7004f1",
   "metadata": {},
   "outputs": [
    {
     "name": "stdout",
     "output_type": "stream",
     "text": [
      "[1, 4, 9, 16, 1936, 3025, 4356, 1156, 3136, 6084, 7921, 1156, 1, 4, 9, 1, 16, 1156, 3025, 4489, 6084, 7921, 2025, 484, 3721, 1156, 3136] "
     ]
    }
   ],
   "source": [
    "#Question 1\n",
    "list1 = [1,2,3,4, [44,55,66, True], False, (34,56,78,89,34), {1,2,3,3,2,1}, {1:34, \"key2\": [55, 67, 78, 89], 4: (45,\n",
    "22, 61, 34)}, [56, 'data science'], 'Machine Learning']\n",
    "def solve(l):\n",
    "    flatlist=[]\n",
    "    for i in l:\n",
    "        if type(i) is int:\n",
    "            flatlist.append(i)\n",
    "        elif type(i) is list:\n",
    "            for j in i:\n",
    "                if type(j) is int:\n",
    "                    flatlist.append(j)\n",
    "        elif type(i) is tuple:\n",
    "            for j in i:\n",
    "                if type(j) is int:\n",
    "                    flatlist.append(j)\n",
    "        elif type(i) is set:\n",
    "            for j in i:\n",
    "                if type(j) is int:\n",
    "                    flatlist.append(j)\n",
    "        elif type(i) is dict:\n",
    "            for j in list(i.keys()):\n",
    "                if type(j) is int:\n",
    "                    flatlist.append(j)\n",
    "            for j in list(i.values()):\n",
    "                if type(j) is int:\n",
    "                    flatlist.append(j);\n",
    "                elif type(j) is list:\n",
    "                    for k in j:\n",
    "                        if type(k) is int:\n",
    "                            flatlist.append(k)\n",
    "                elif type(j) is tuple:\n",
    "                    for k in j:\n",
    "                        if type(k) is int:\n",
    "                            flatlist.append(k)\n",
    "                    \n",
    "        else:\n",
    "            continue;\n",
    "    return flatlist\n",
    "l2 = solve(list1)\n",
    "l3 = list(map(lambda x:x*x,l2))\n",
    "print(l3, end=\" \")"
   ]
  },
  {
   "cell_type": "code",
   "execution_count": 25,
   "id": "5fe5c5b9-4291-49e2-8e6a-95766c9c1336",
   "metadata": {},
   "outputs": [
    {
     "name": "stdin",
     "output_type": "stream",
     "text": [
      "Enter the message to be encrypted I want to become a Data Scientist\n"
     ]
    },
    {
     "data": {
      "text/plain": [
       "'r$dzmg$gl$yvxlnv$z$wzgz$hxrvmgrhg'"
      ]
     },
     "execution_count": 25,
     "metadata": {},
     "output_type": "execute_result"
    }
   ],
   "source": [
    "#Question 2\n",
    "string = input(\"Enter the message to be encrypted\")\n",
    "str = string.lower()\n",
    "res = ''\n",
    "for i in str:\n",
    "    if(i==\" \"):\n",
    "        res = res + '$'\n",
    "    elif(i.isalnum()):\n",
    "        res = res+ chr(109+110 - (ord(i)))\n",
    "    else:\n",
    "        continue\n",
    "res"
   ]
  },
  {
   "cell_type": "code",
   "execution_count": null,
   "id": "fdfed444-f032-42d5-8bf2-cf4b6557d659",
   "metadata": {},
   "outputs": [],
   "source": []
  },
  {
   "cell_type": "code",
   "execution_count": null,
   "id": "a08a9f14-135f-4396-a82a-88fc60d3b639",
   "metadata": {},
   "outputs": [],
   "source": []
  }
 ],
 "metadata": {
  "kernelspec": {
   "display_name": "Python 3 (ipykernel)",
   "language": "python",
   "name": "python3"
  },
  "language_info": {
   "codemirror_mode": {
    "name": "ipython",
    "version": 3
   },
   "file_extension": ".py",
   "mimetype": "text/x-python",
   "name": "python",
   "nbconvert_exporter": "python",
   "pygments_lexer": "ipython3",
   "version": "3.10.8"
  }
 },
 "nbformat": 4,
 "nbformat_minor": 5
}
