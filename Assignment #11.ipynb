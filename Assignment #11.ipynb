{
 "cells": [
  {
   "cell_type": "code",
   "execution_count": null,
   "id": "9750483f-dbc3-4370-ba51-41bc55f6fcec",
   "metadata": {},
   "outputs": [],
   "source": [
    "#Question 1\n",
    "open(\"file_name\", \"operation\") is used to open any file in python.\n",
    "Different modes, which are commonly used are-\n",
    "Read Only (‘r’) : Open text file for reading. This is also the default mode in which a file is opened.\n",
    "Read and Write (‘r+’): Open the file for reading and writing. \n",
    "Write Only (‘w’) : Open the file for writing. For the existing files, the data is truncated and over-written.\n",
    "Write and Read (‘w+’) : Open the file for reading and writing.\n",
    "Append Only (‘a’): Open the file for writing. The file is created if it does not exist. \n",
    "Append and Read (‘a+’) : Open the file for reading and writing. "
   ]
  },
  {
   "cell_type": "code",
   "execution_count": null,
   "id": "5096cdcf-2d23-460d-85ea-47b970705e4e",
   "metadata": {},
   "outputs": [],
   "source": [
    "#Question 2\n",
    "close() function closes the file and frees the memory space acquired by that file. It is necessary to change file access mode.\n",
    "It is used at the time when the file is no longer needed or if it is to be opened in a different file mode.\n",
    "It is important to close a file because, without closing it, we cannot see the operations performed by us on the file."
   ]
  },
  {
   "cell_type": "code",
   "execution_count": 40,
   "id": "d15368d3-a01b-4471-ac20-f5e0ef1125c0",
   "metadata": {},
   "outputs": [],
   "source": [
    "#Question 3\n",
    "f = open(\"dummy.txt\",'w')"
   ]
  },
  {
   "cell_type": "code",
   "execution_count": 41,
   "id": "2af6ce76-69ef-45e8-8a7a-9fbca7227a6f",
   "metadata": {},
   "outputs": [],
   "source": [
    "f.write('I want to become a Data Scientist\\n')\n",
    "f.close()"
   ]
  },
  {
   "cell_type": "code",
   "execution_count": 4,
   "id": "7a822303-1db6-4b17-bda4-0db500231178",
   "metadata": {},
   "outputs": [
    {
     "name": "stdout",
     "output_type": "stream",
     "text": [
      "I want to become a Data Scientist\n"
     ]
    }
   ],
   "source": [
    "f = open(\"dummy.txt\",'r')\n",
    "print(f.read())"
   ]
  },
  {
   "cell_type": "code",
   "execution_count": null,
   "id": "a9ba7923-4ffe-4209-8869-a9cce3dc7ccf",
   "metadata": {},
   "outputs": [],
   "source": [
    "#Question 4\n",
    "read() : Returns the read bytes in form of a string. Reads n bytes, if no n specified, reads the entire file.\n",
    "Example->"
   ]
  },
  {
   "cell_type": "code",
   "execution_count": 8,
   "id": "29398f60-a6cb-46fb-a1bf-03f1114aed8f",
   "metadata": {},
   "outputs": [
    {
     "data": {
      "text/plain": [
       "'I want to become a Data Scientist'"
      ]
     },
     "execution_count": 8,
     "metadata": {},
     "output_type": "execute_result"
    }
   ],
   "source": [
    "f = open(\"dummy.txt\",'r')\n",
    "f.read()"
   ]
  },
  {
   "cell_type": "code",
   "execution_count": null,
   "id": "d5bf9aa1-9ace-44e8-913e-fd2b68b7d6fc",
   "metadata": {},
   "outputs": [],
   "source": [
    "readline() : Reads a line of the file and returns in form of a string.\n",
    "For specified n, reads at most n bytes. However, does not reads more than one line, even if n exceeds the length of the line.\n",
    "Example->"
   ]
  },
  {
   "cell_type": "code",
   "execution_count": 42,
   "id": "873f6a99-d759-431e-b67c-b545ced8354f",
   "metadata": {},
   "outputs": [
    {
     "name": "stdout",
     "output_type": "stream",
     "text": [
      "I want to become a Data Scientist\n",
      "HEllo\n",
      "\n",
      "I want to become a Data Scientist\n",
      "\n"
     ]
    }
   ],
   "source": [
    "f = open(\"dummy.txt\",'a+')\n",
    "f.write(\"HEllo\\n\")\n",
    "f.seek(0)\n",
    "print(f.read())\n",
    "f.seek(0)\n",
    "print(f.readline())"
   ]
  },
  {
   "cell_type": "code",
   "execution_count": null,
   "id": "27a8c4ed-dfe3-4b45-afb3-88b6381cb869",
   "metadata": {},
   "outputs": [],
   "source": [
    "readlines() : Reads all the lines and return them as each line a string element in a list.\n",
    "example->"
   ]
  },
  {
   "cell_type": "code",
   "execution_count": 43,
   "id": "f5e3a04e-f2bd-45c7-a771-40ee632a715d",
   "metadata": {},
   "outputs": [
    {
     "name": "stdout",
     "output_type": "stream",
     "text": [
      "I want to become a Data Scientist\n",
      "HEllo\n",
      "HEllo222\n",
      "I want to become a Data Scientist\n",
      "\n"
     ]
    },
    {
     "data": {
      "text/plain": [
       "['I want to become a Data Scientist\\n', 'HEllo\\n', 'HEllo222']"
      ]
     },
     "execution_count": 43,
     "metadata": {},
     "output_type": "execute_result"
    }
   ],
   "source": [
    "f = open(\"dummy.txt\",'a+')\n",
    "f.write(\"HEllo222\")\n",
    "f.seek(0)\n",
    "print(f.read())\n",
    "f.seek(0)\n",
    "print(f.readline())\n",
    "f.seek(0)\n",
    "f.readlines()"
   ]
  },
  {
   "cell_type": "code",
   "execution_count": null,
   "id": "05f3de72-d2b2-4b23-8cf0-e2aa9219141e",
   "metadata": {},
   "outputs": [],
   "source": [
    "#QUestion 5\n",
    "The with statement works with the open() function to open a file.\n",
    "Unlike open() where you have to close the file with the close() method, \n",
    "the with statement closes the file for you without you telling it to.\n",
    "Example->"
   ]
  },
  {
   "cell_type": "code",
   "execution_count": 44,
   "id": "0e3e8d78-ab0c-4b51-aaaf-4216b76ffa62",
   "metadata": {},
   "outputs": [
    {
     "name": "stdout",
     "output_type": "stream",
     "text": [
      "I want to become a Data Scientist\n",
      "HEllo\n",
      "HEllo222\n"
     ]
    }
   ],
   "source": [
    "with open(\"dummy.txt\") as my_file:\n",
    "    print(my_file.read())\n"
   ]
  },
  {
   "cell_type": "code",
   "execution_count": null,
   "id": "ad15d004-4a50-49e1-a32c-5c5b13fe5c8b",
   "metadata": {},
   "outputs": [],
   "source": [
    "#Question 6\n",
    "write() : Inserts the string str1 in a single line in the text file.\n",
    "writelines() : For a list of string elements, each string is inserted in the text file.\n",
    "Used to insert multiple strings at a single time.\n",
    "Example->"
   ]
  },
  {
   "cell_type": "code",
   "execution_count": 46,
   "id": "f36d6c47-b692-4b25-8394-497dcc77ae91",
   "metadata": {},
   "outputs": [
    {
     "name": "stdout",
     "output_type": "stream",
     "text": [
      "Output is \n",
      "Hello \n",
      "This is Delhi \n",
      "This is Paris \n",
      "This is London \n",
      "\n",
      "\n"
     ]
    }
   ],
   "source": [
    "file1 = open(\"myfile.txt\",\"w\")\n",
    "L = [\"This is Delhi \\n\",\"This is Paris \\n\",\"This is London \\n\"] \n",
    "\n",
    "file1.write(\"Hello \\n\")\n",
    "file1.writelines(L)\n",
    "file1.close()\n",
    "  \n",
    "file1 = open(\"myfile.txt\",\"r\") \n",
    "  \n",
    "print(\"Output is \")\n",
    "print(file1.read())\n",
    "print()"
   ]
  },
  {
   "cell_type": "code",
   "execution_count": null,
   "id": "b0f078c0-a2be-4338-9129-4dd9509c5d6a",
   "metadata": {},
   "outputs": [],
   "source": []
  }
 ],
 "metadata": {
  "kernelspec": {
   "display_name": "Python 3 (ipykernel)",
   "language": "python",
   "name": "python3"
  },
  "language_info": {
   "codemirror_mode": {
    "name": "ipython",
    "version": 3
   },
   "file_extension": ".py",
   "mimetype": "text/x-python",
   "name": "python",
   "nbconvert_exporter": "python",
   "pygments_lexer": "ipython3",
   "version": "3.10.8"
  }
 },
 "nbformat": 4,
 "nbformat_minor": 5
}
