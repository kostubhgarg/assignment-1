{
 "cells": [
  {
   "cell_type": "code",
   "execution_count": null,
   "id": "617a7578-0651-447e-b440-1bc4e6b51b17",
   "metadata": {},
   "outputs": [],
   "source": [
    "Assigment - 6"
   ]
  },
  {
   "cell_type": "code",
   "execution_count": null,
   "id": "a6ae434b-0948-4081-a67a-851e039efc9c",
   "metadata": {},
   "outputs": [],
   "source": [
    "Question 1->\n",
    "Class is just a representation or characterization of a real world entity, while object represent \n",
    "the real world entity, which is a instance of a class.\n",
    "Example->"
   ]
  },
  {
   "cell_type": "code",
   "execution_count": 8,
   "id": "41aded72-1c9e-41e2-a35c-87c49b96a7eb",
   "metadata": {},
   "outputs": [
    {
     "name": "stdout",
     "output_type": "stream",
     "text": [
      "Welcome\n"
     ]
    }
   ],
   "source": [
    "class pwskills:\n",
    "    def welcome_msg(self):\n",
    "        print(\"Welcome\")\n",
    "a = pwskills()\n",
    "a.welcome_msg()"
   ]
  },
  {
   "cell_type": "code",
   "execution_count": null,
   "id": "8317d9d9-a137-4687-8b6d-76abf91a0c3c",
   "metadata": {},
   "outputs": [],
   "source": [
    "Question 2->\n",
    "1) Abstraction\n",
    "2) Encapsulation\n",
    "3) Polymorphism\n",
    "4) Inheritance"
   ]
  },
  {
   "cell_type": "code",
   "execution_count": null,
   "id": "00e84cc6-89bd-4e83-9231-281b9e467d3f",
   "metadata": {},
   "outputs": [],
   "source": [
    "Question 3->\n",
    "It is used to make constructor, so as to pass data in the class while creating a object.\n",
    "Example->"
   ]
  },
  {
   "cell_type": "code",
   "execution_count": 20,
   "id": "ac04e97c-14dc-47c7-8f34-ef4f078e189b",
   "metadata": {},
   "outputs": [
    {
     "name": "stdout",
     "output_type": "stream",
     "text": [
      "12\n"
     ]
    }
   ],
   "source": [
    "class abd:\n",
    "    a\n",
    "    def __init__(self,a):\n",
    "        self.a  =a\n",
    "    def return_func(self):\n",
    "        return self.a\n",
    "obj = abd(12)\n",
    "print(obj.return_func())\n"
   ]
  },
  {
   "cell_type": "code",
   "execution_count": null,
   "id": "113fcbbb-f5aa-4dab-95eb-72d82a16129b",
   "metadata": {},
   "outputs": [],
   "source": [
    "Question 4->\n",
    "Self represents the instance of the class. \n",
    "By using the “self” we can access the attributes and methods of the class in python. \n",
    "It binds the attributes with the given arguments."
   ]
  },
  {
   "cell_type": "code",
   "execution_count": null,
   "id": "0a849e3c-831a-4dd1-87b9-c90e45e2b33f",
   "metadata": {},
   "outputs": [],
   "source": [
    "Question 5->\n",
    "Inheritance is basically inheriting the properties of the base class to the child class. Total 5 types->\n",
    "Types->\n",
    "(i) Single Inheritance\n",
    "Example->"
   ]
  },
  {
   "cell_type": "code",
   "execution_count": 21,
   "id": "385b54da-fcfb-4ace-aa17-c44477483cd8",
   "metadata": {},
   "outputs": [
    {
     "name": "stdout",
     "output_type": "stream",
     "text": [
      "Child\n",
      "Parent\n"
     ]
    }
   ],
   "source": [
    "class Parent:\n",
    "    def func(self):\n",
    "        print(\"Parent\")\n",
    "class Child(Parent):\n",
    "    def func1(self):\n",
    "        print(\"Child\")\n",
    "obj = Child()\n",
    "obj.func1()\n",
    "obj.func()"
   ]
  },
  {
   "cell_type": "code",
   "execution_count": null,
   "id": "524b4fe1-45b9-4c92-ac8f-dcc9d00c31b6",
   "metadata": {},
   "outputs": [],
   "source": [
    "(ii) Multiple Inheritance\n",
    "Example->"
   ]
  },
  {
   "cell_type": "code",
   "execution_count": 23,
   "id": "31da75bc-50d6-4fed-bb2a-2e293ea12586",
   "metadata": {},
   "outputs": [
    {
     "name": "stdout",
     "output_type": "stream",
     "text": [
      "P1\n",
      "P2\n",
      "Child of P1 & P2\n"
     ]
    }
   ],
   "source": [
    "class p1:\n",
    "    def func(self):\n",
    "        print(\"P1\")\n",
    "class p2:\n",
    "    def func2(self):\n",
    "        print(\"P2\")\n",
    "class c1(p1,p2):\n",
    "    def func3(self):\n",
    "        print(\"Child of P1 & P2\")\n",
    "obj = c1()\n",
    "obj.func()\n",
    "obj.func2()\n",
    "obj.func3()"
   ]
  },
  {
   "cell_type": "code",
   "execution_count": null,
   "id": "b7e1764f-6789-48d3-ba4a-6cb70e42bcd3",
   "metadata": {},
   "outputs": [],
   "source": [
    "(iii) Multilevel Inheritance\n",
    "Example->"
   ]
  },
  {
   "cell_type": "code",
   "execution_count": 33,
   "id": "4bcda355-711f-4398-9896-de740b82e59b",
   "metadata": {},
   "outputs": [
    {
     "name": "stdout",
     "output_type": "stream",
     "text": [
      "Bheem\n",
      "Grandfather name : Bheem\n",
      "Father name : Jaggu\n",
      "Son name : Raju\n"
     ]
    }
   ],
   "source": [
    "class Grand:\n",
    " \n",
    "    def __init__(self, grandname):\n",
    "        self.grandname = grandname\n",
    " \n",
    "class F(Grand):\n",
    "    def __init__(self, fname, grandname):\n",
    "        self.fname = fname\n",
    "        Grand.__init__(self, grandname)\n",
    " \n",
    "class Son(F):\n",
    "    def __init__(self, son, fname, grandname):\n",
    "        self.sname = son\n",
    "        F.__init__(self, fname, grandname)\n",
    " \n",
    "    def print_name(self):\n",
    "        print('Grandfather name :', self.grandname)\n",
    "        print(\"Father name :\", self.fname)\n",
    "        print(\"Son name :\", self.sname)\n",
    "        \n",
    "s1 = Son('Raju', 'Jaggu', 'Bheem')\n",
    "print(s1.grandname)\n",
    "s1.print_name()"
   ]
  },
  {
   "cell_type": "code",
   "execution_count": null,
   "id": "80ca374a-6321-4468-977d-46aa20b54a35",
   "metadata": {},
   "outputs": [],
   "source": [
    "(iv) Hierarchical Inheritance\n",
    "Example->"
   ]
  },
  {
   "cell_type": "code",
   "execution_count": 34,
   "id": "204537e8-ec3b-42a4-b432-c9dc300ca4fa",
   "metadata": {},
   "outputs": [
    {
     "name": "stdout",
     "output_type": "stream",
     "text": [
      "parent class.\n",
      "child 1.\n",
      "parent class.\n",
      "child 2.\n"
     ]
    }
   ],
   "source": [
    "class Parent:\n",
    "    def func1(self):\n",
    "        print(\"parent class.\")\n",
    "class Child1(Parent):\n",
    "    def func2(self):\n",
    "        print(\"child 1.\")\n",
    "class Child2(Parent):\n",
    "    def func3(self):\n",
    "        print(\"child 2.\")\n",
    " \n",
    "object1 = Child1()\n",
    "object2 = Child2()\n",
    "object1.func1()\n",
    "object1.func2()\n",
    "object2.func1()\n",
    "object2.func3()"
   ]
  },
  {
   "cell_type": "code",
   "execution_count": null,
   "id": "aca12084-8d61-427f-bb4b-351034919573",
   "metadata": {},
   "outputs": [],
   "source": [
    "(v) Hybrid Inheritance\n",
    "Example->\n"
   ]
  },
  {
   "cell_type": "code",
   "execution_count": 35,
   "id": "f8d79440-7e96-4b51-b188-73c5b80f0f53",
   "metadata": {},
   "outputs": [
    {
     "name": "stdout",
     "output_type": "stream",
     "text": [
      "school.\n",
      "student 1. \n"
     ]
    }
   ],
   "source": [
    "class School:\n",
    "    def func1(self):\n",
    "        print(\"school.\")\n",
    "class Student1(School):\n",
    "    def func2(self):\n",
    "        print(\"student 1. \")\n",
    "class Student2(School):\n",
    "    def func3(self):\n",
    "        print(\"student 2.\")\n",
    "class Student3(Student1, School):\n",
    "    def func4(self):\n",
    "        print(\"student 3.\")\n",
    " \n",
    "object = Student3()\n",
    "object.func1()\n",
    "object.func2()"
   ]
  },
  {
   "cell_type": "code",
   "execution_count": null,
   "id": "e3c916bb-cfe5-458e-9942-4ff164364e53",
   "metadata": {},
   "outputs": [],
   "source": []
  }
 ],
 "metadata": {
  "kernelspec": {
   "display_name": "Python 3 (ipykernel)",
   "language": "python",
   "name": "python3"
  },
  "language_info": {
   "codemirror_mode": {
    "name": "ipython",
    "version": 3
   },
   "file_extension": ".py",
   "mimetype": "text/x-python",
   "name": "python",
   "nbconvert_exporter": "python",
   "pygments_lexer": "ipython3",
   "version": "3.10.8"
  }
 },
 "nbformat": 4,
 "nbformat_minor": 5
}
