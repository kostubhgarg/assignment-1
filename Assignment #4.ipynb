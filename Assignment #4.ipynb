{
 "cells": [
  {
   "cell_type": "code",
   "execution_count": 4,
   "id": "c453d73e-e7ab-438c-8f5a-7c558a527da1",
   "metadata": {},
   "outputs": [
    {
     "data": {
      "text/plain": [
       "[1, 3, 5, 7, 9, 11, 13, 15, 17, 19, 21, 23, 25]"
      ]
     },
     "execution_count": 4,
     "metadata": {},
     "output_type": "execute_result"
    }
   ],
   "source": [
    "#Question 1\n",
    "#def keyword is used to create a function\n",
    "\n",
    "def oddNum():\n",
    "    l = []\n",
    "    for i in range(26):\n",
    "        if(i%2!=0):\n",
    "            l.append(i)\n",
    "        \n",
    "    return l\n",
    "oddNum()"
   ]
  },
  {
   "cell_type": "code",
   "execution_count": 16,
   "id": "cd928d37-aaee-4a00-9deb-8c81cd46f2ef",
   "metadata": {},
   "outputs": [
    {
     "name": "stdout",
     "output_type": "stream",
     "text": [
      "(1, 2, 'abc')\n"
     ]
    },
    {
     "data": {
      "text/plain": [
       "{'a': '1', 'b': 1}"
      ]
     },
     "execution_count": 16,
     "metadata": {},
     "output_type": "execute_result"
    }
   ],
   "source": [
    "#Question 2\n",
    "# *args is used to take any number of dynamic inputs\n",
    "# *kwargs is used to take input as key value pairs\n",
    "def test(*args):\n",
    "    print(args)\n",
    "def test1(**kwargs):\n",
    "    return kwargs\n",
    "test(1,2,\"abc\")\n",
    "test1(a=\"1\", b=1)"
   ]
  },
  {
   "cell_type": "code",
   "execution_count": 6,
   "id": "cc171f65-3995-4940-a592-8f7d78e8bf54",
   "metadata": {},
   "outputs": [
    {
     "name": "stdout",
     "output_type": "stream",
     "text": [
      "2 4 6 8 10 "
     ]
    }
   ],
   "source": [
    "#Question 3\n",
    "#Iterator is used to traverse any iterable object\n",
    "# iter() is used to initialize, and next() is used for iteration\n",
    "lis= [2,4,6,8,10,12,14,16,18,20]\n",
    "s1 = iter(lis)\n",
    "for i in range(5):\n",
    "    print(next(s1), end=\" \")"
   ]
  },
  {
   "cell_type": "code",
   "execution_count": 8,
   "id": "23b058a8-9979-4928-9fad-17a4c5d8c8e4",
   "metadata": {},
   "outputs": [
    {
     "data": {
      "text/plain": [
       "[0, 1, 1, 2, 3]"
      ]
     },
     "execution_count": 8,
     "metadata": {},
     "output_type": "execute_result"
    }
   ],
   "source": [
    "#Question 4\n",
    "#Generator Function-> A type of function that is memory efficient and can be used like an iterator object.\n",
    "#yield keyword is used to create a generator function.\n",
    "#Example->\n",
    "def test(n):\n",
    "    a,b =0,1\n",
    "    for i in range(n):\n",
    "        yield a\n",
    "        a,b = b,a+b\n",
    "    \n",
    "test(5)\n",
    "list(test(5))\n"
   ]
  },
  {
   "cell_type": "code",
   "execution_count": 17,
   "id": "5b0ae84e-7977-4ac8-a59c-9790b3d62502",
   "metadata": {},
   "outputs": [
    {
     "name": "stdout",
     "output_type": "stream",
     "text": [
      "2 3 5 7 11 13 17 19 23 29 31 37 41 43 47 53 59 61 67 71 "
     ]
    }
   ],
   "source": [
    "#Question 5\n",
    "def primeN():\n",
    "    n=1000\n",
    "    a=2\n",
    "    while(a<1000):\n",
    "        i=2\n",
    "        while(i<=a) :\n",
    "            if(a%i ==0):\n",
    "                break\n",
    "            else:\n",
    "                i=i+1\n",
    "        if i>=a:\n",
    "            yield a\n",
    "        a = a+1\n",
    "\n",
    "prime = primeN()\n",
    "for i in range(20):\n",
    "    print(next(prime), end=\" \")\n",
    "            "
   ]
  },
  {
   "cell_type": "code",
   "execution_count": 13,
   "id": "31faaa0d-0e59-4a6a-a6ea-b59415703980",
   "metadata": {},
   "outputs": [
    {
     "name": "stdout",
     "output_type": "stream",
     "text": [
      "0 1 1 2 3 5 8 13 21 34 "
     ]
    }
   ],
   "source": [
    "#Question 6\n",
    "num=10\n",
    "a=0\n",
    "b=1\n",
    "count=1\n",
    "while(count<=num):\n",
    "    print(a, end=\" \")\n",
    "    c = a+b\n",
    "    a=b\n",
    "    b=c\n",
    "    count=count+1\n"
   ]
  },
  {
   "cell_type": "code",
   "execution_count": 15,
   "id": "066abcda-34ee-443f-b73e-6979e2ab2c2f",
   "metadata": {},
   "outputs": [
    {
     "data": {
      "text/plain": [
       "['p', 'w', 's', 'k', 'i', 'l', 'l', 's']"
      ]
     },
     "execution_count": 15,
     "metadata": {},
     "output_type": "execute_result"
    }
   ],
   "source": [
    "#Question 7\n",
    "string = \"pwskills\"\n",
    "[i for i in string]"
   ]
  },
  {
   "cell_type": "code",
   "execution_count": 11,
   "id": "fa084fab-6112-47b4-8e53-0d80b8626cc3",
   "metadata": {},
   "outputs": [
    {
     "name": "stdin",
     "output_type": "stream",
     "text": [
      "Enter the number to be checked: 12221\n"
     ]
    },
    {
     "name": "stdout",
     "output_type": "stream",
     "text": [
      "It is a palindrome\n"
     ]
    }
   ],
   "source": [
    "#Question 8\n",
    "num = int(input(\"Enter the number to be checked:\"))\n",
    "temp =num\n",
    "back=0\n",
    "while(num>0):\n",
    "    dig = num%10\n",
    "    back= back*10+dig\n",
    "    num = num//10\n",
    "if(temp==back):\n",
    "    print(\"It is a palindrome\")\n",
    "else: \n",
    "    print(\"It is not a palindrome\")"
   ]
  },
  {
   "cell_type": "code",
   "execution_count": 16,
   "id": "5b0b9820-5e41-4d9a-a347-9ad59cd814f4",
   "metadata": {},
   "outputs": [
    {
     "name": "stdout",
     "output_type": "stream",
     "text": [
      "[1, 3, 5, 7, 9, 11, 13, 15, 17, 19, 21, 23, 25, 27, 29, 31, 33, 35, 37, 39, 41, 43, 45, 47, 49, 51, 53, 55, 57, 59, 61, 63, 65, 67, 69, 71, 73, 75, 77, 79, 81, 83, 85, 87, 89, 91, 93, 95, 97, 99] "
     ]
    }
   ],
   "source": [
    "#Question 9\n",
    "l1 = [i for i in range(1,101)]\n",
    "l2 = [i for i in l1 if i%2!=0]\n",
    "print(l2, end=' ')"
   ]
  },
  {
   "cell_type": "code",
   "execution_count": null,
   "id": "fa5f5737-416a-48be-bc5b-c947507d8946",
   "metadata": {},
   "outputs": [],
   "source": []
  }
 ],
 "metadata": {
  "kernelspec": {
   "display_name": "Python 3 (ipykernel)",
   "language": "python",
   "name": "python3"
  },
  "language_info": {
   "codemirror_mode": {
    "name": "ipython",
    "version": 3
   },
   "file_extension": ".py",
   "mimetype": "text/x-python",
   "name": "python",
   "nbconvert_exporter": "python",
   "pygments_lexer": "ipython3",
   "version": "3.10.8"
  }
 },
 "nbformat": 4,
 "nbformat_minor": 5
}
