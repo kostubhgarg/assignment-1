{
 "cells": [
  {
   "cell_type": "code",
   "execution_count": 3,
   "id": "cfe3d1fa-7294-4130-991d-9422de4852b9",
   "metadata": {},
   "outputs": [
    {
     "name": "stdout",
     "output_type": "stream",
     "text": [
      "Alto\n"
     ]
    }
   ],
   "source": [
    "#Question 1\n",
    "class vehicle:\n",
    "    def __init__(self, name_of_vehicle, max_speed,average_of_vehicle):\n",
    "        self.name = name_of_vehicle\n",
    "        self.speed = max_speed\n",
    "        self.average = average_of_vehicle\n",
    "v1 = vehicle(\"Alto\", 100, 20)\n",
    "print(v1.name)"
   ]
  },
  {
   "cell_type": "code",
   "execution_count": 5,
   "id": "e89c968b-0227-4d96-b24d-cc3c07a100c6",
   "metadata": {},
   "outputs": [
    {
     "name": "stdout",
     "output_type": "stream",
     "text": [
      "Alto 10\n"
     ]
    }
   ],
   "source": [
    "#Question 2\n",
    "class car(vehicle):\n",
    "    def seating_capacity(self, capacity):\n",
    "        self.capacity = capacity\n",
    "        print(self.name, self.capacity)\n",
    "c1 = car(\"Alto\", 90, 15)\n",
    "c1.seating_capacity(10)"
   ]
  },
  {
   "cell_type": "code",
   "execution_count": null,
   "id": "6433aaab-14c5-4094-a0ea-6fee003da86e",
   "metadata": {},
   "outputs": [],
   "source": [
    "#Question 3\n",
    "When a class is derived from more than one base class it is called multiple Inheritance. \n",
    "The derived class inherits all the features of the base case.\n",
    "Example->"
   ]
  },
  {
   "cell_type": "code",
   "execution_count": 2,
   "id": "ea179df8-172f-443e-8ab8-7a0879184b66",
   "metadata": {},
   "outputs": [
    {
     "name": "stdout",
     "output_type": "stream",
     "text": [
      "Father : Raju\n",
      "Mother : Chutki\n"
     ]
    }
   ],
   "source": [
    "\n",
    "class Mother:\n",
    "\tmothername = \"\"\n",
    "\n",
    "\tdef mother(self):\n",
    "\t\tprint(self.mothername)\n",
    "class Father:\n",
    "\tfathername = \"\"\n",
    "\n",
    "\tdef father(self):\n",
    "\t\tprint(self.fathername)\n",
    "\n",
    "\n",
    "class Son(Mother, Father):\n",
    "\tdef parents(self):\n",
    "\t\tprint(\"Father :\", self.fathername)\n",
    "\t\tprint(\"Mother :\", self.mothername)\n",
    "\n",
    "s1 = Son()\n",
    "s1.fathername = \"Raju\"\n",
    "s1.mothername = \"Chutki\"\n",
    "s1.parents()\n"
   ]
  },
  {
   "cell_type": "code",
   "execution_count": null,
   "id": "bf25531d-10f7-4e54-afff-0625d239a772",
   "metadata": {},
   "outputs": [],
   "source": [
    "#Question 4\n",
    "We use getters & setters to add validation logic around getting and setting a value.\n",
    "Private variables cannot be accessed directly or modified by external user, therefore these are needed.\n",
    "Example->\n"
   ]
  },
  {
   "cell_type": "code",
   "execution_count": 6,
   "id": "6889bd23-95b6-4cd9-afd0-0e634a8588a2",
   "metadata": {},
   "outputs": [
    {
     "name": "stdout",
     "output_type": "stream",
     "text": [
      "setter method called\n",
      "getter method called\n",
      "19\n"
     ]
    }
   ],
   "source": [
    "\n",
    "class pwskills:\n",
    "\tdef __init__(self):\n",
    "\t\tself._age = 0\n",
    "\t\n",
    "\t@property\n",
    "\tdef ageAccess(self):\n",
    "\t\tprint(\"getter method called\")\n",
    "\t\treturn self._age\n",
    "\t\n",
    "\t# a setter function\n",
    "\t@ageAccess.setter\n",
    "\tdef ageSetter(self, a):\n",
    "\t\tprint(\"setter method called\")\n",
    "\t\tself._age = a\n",
    "\n",
    "mark = pwskills()\n",
    "\n",
    "mark.ageSetter = 19\n",
    "\n",
    "print(mark.ageAccess)\n"
   ]
  },
  {
   "cell_type": "code",
   "execution_count": null,
   "id": "46c38b66-4547-4f74-9d49-0dc417186739",
   "metadata": {},
   "outputs": [],
   "source": [
    "#Question 5\n",
    "Method overriding is an ability that allows a subclass or child class to provide a specific implementation \n",
    "of a method that is already provided by one of its super-classes or parent classes. When a method in a subclass has the same name, \n",
    "same parameters or signature and same return type(or sub-type) as a method in its super-class, \n",
    "then the method in the subclass is said to override the method in the super-class.\n",
    "Example->"
   ]
  },
  {
   "cell_type": "code",
   "execution_count": 7,
   "id": "162de83b-891f-4999-b255-79de5d68d373",
   "metadata": {},
   "outputs": [
    {
     "name": "stdout",
     "output_type": "stream",
     "text": [
      "Inside Parent\n",
      "Inside Child\n"
     ]
    }
   ],
   "source": [
    "class Parent():\n",
    "\t\n",
    "\t# Constructor\n",
    "\tdef __init__(self):\n",
    "\t\tself.value = \"Inside Parent\"\n",
    "\t\t\n",
    "\tdef show(self):\n",
    "\t\tprint(self.value)\n",
    "\t\t\n",
    "class Child(Parent):\n",
    "\t\n",
    "\t# Constructor\n",
    "\tdef __init__(self):\n",
    "\t\tself.value = \"Inside Child\"\n",
    "\t\t\n",
    "\t# Child's show method\n",
    "\tdef show(self):\n",
    "\t\tprint(self.value)\n",
    "\t\t\n",
    "\t\t\n",
    "# Driver's code\n",
    "obj1 = Parent()\n",
    "obj2 = Child()\n",
    "\n",
    "obj1.show()\n",
    "obj2.show()\n"
   ]
  },
  {
   "cell_type": "code",
   "execution_count": null,
   "id": "9415832a-fb40-4be3-b3ca-5ec72216da48",
   "metadata": {},
   "outputs": [],
   "source": []
  }
 ],
 "metadata": {
  "kernelspec": {
   "display_name": "Python 3 (ipykernel)",
   "language": "python",
   "name": "python3"
  },
  "language_info": {
   "codemirror_mode": {
    "name": "ipython",
    "version": 3
   },
   "file_extension": ".py",
   "mimetype": "text/x-python",
   "name": "python",
   "nbconvert_exporter": "python",
   "pygments_lexer": "ipython3",
   "version": "3.10.8"
  }
 },
 "nbformat": 4,
 "nbformat_minor": 5
}
